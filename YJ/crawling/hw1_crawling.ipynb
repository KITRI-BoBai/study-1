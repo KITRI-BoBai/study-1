{
  "nbformat": 4,
  "nbformat_minor": 0,
  "metadata": {
    "colab": {
      "name": "hw1_crawling.ipynb",
      "provenance": []
    },
    "kernelspec": {
      "name": "python3",
      "display_name": "Python 3"
    },
    "language_info": {
      "name": "python"
    },
    "accelerator": "GPU"
  },
  "cells": [
    {
      "cell_type": "code",
      "metadata": {
        "colab": {
          "base_uri": "https://localhost:8080/"
        },
        "id": "3ZOHy6NBkWbI",
        "outputId": "2d713196-105b-4b26-813e-8c836219740e"
      },
      "source": [
        "pip install beautifulsoup4"
      ],
      "execution_count": 1,
      "outputs": [
        {
          "output_type": "stream",
          "name": "stdout",
          "text": [
            "Requirement already satisfied: beautifulsoup4 in /usr/local/lib/python3.7/dist-packages (4.6.3)\n"
          ]
        }
      ]
    },
    {
      "cell_type": "code",
      "metadata": {
        "id": "mmm6-o_Mk2ZP"
      },
      "source": [
        "import requests\n",
        "from bs4 import BeautifulSoup"
      ],
      "execution_count": 2,
      "outputs": []
    },
    {
      "cell_type": "code",
      "metadata": {
        "id": "oHhHtd3Ok2f4"
      },
      "source": [
        "url = 'https://entertain.naver.com/home'"
      ],
      "execution_count": 3,
      "outputs": []
    },
    {
      "cell_type": "code",
      "metadata": {
        "id": "1O9iphkck2i_"
      },
      "source": [
        "response = requests.get(url)"
      ],
      "execution_count": 4,
      "outputs": []
    },
    {
      "cell_type": "code",
      "metadata": {
        "id": "lL9ePDIClHxo"
      },
      "source": [
        "if response.status_code == 200 :\n",
        "  html = response.text\n",
        "  soup = BeautifulSoup(html, 'html.parser')\n",
        "  # print(soup)\n",
        "  list = soup.find(\"div\", {\"class\":\"rank_lst\"}).get_text()\n",
        "else :\n",
        "  print(response.status_code)"
      ],
      "execution_count": 20,
      "outputs": []
    },
    {
      "cell_type": "code",
      "metadata": {
        "colab": {
          "base_uri": "https://localhost:8080/"
        },
        "id": "LKeryc-TlH0J",
        "outputId": "3da712c1-d8c3-4751-99a0-0b70b2d13278"
      },
      "source": [
        "print(list)"
      ],
      "execution_count": 21,
      "outputs": [
        {
          "output_type": "stream",
          "name": "stdout",
          "text": [
            "\n",
            "\n",
            "\n",
            "1김구라 “전처 아침에 안 일어나, 현재 아내 6시에도 일어나 배웅” (너는 내운명)[결정적장면]\n",
            "\n",
            "\n",
            "2'하이클래스' 첫방부터 파격 베드신…조여정, 남편 사망에 子와 제주도로 [종합]\n",
            "\n",
            "\n",
            "3'최민환♥' 율희, 가녀린 팔에서 힘이 번쩍…엄마 아닌 누나 같네\n",
            "\n",
            "\n",
            "4최고기, SNS 언팔에 심기불편 \"팔로우, 하지마\"\n",
            "\n",
            "\n",
            "5정미애 딸, 4살에 키즈모델 러브콜 들어오겠네...인형 인 줄 \"숙녀느낌 폴폴\"\n",
            "\n",
            "\n",
            "6권민아, 남친과 호텔 객실서 흡연 논란→\"흡연방 잡았다\"더니...담뱃불 사진만 삭제\n",
            "\n",
            "\n",
            "7'가슴성형 고백' 유깻잎, 놀라운 수술 회복력 무엇? 슬슬 돌아오는 입맛에 폭풍 먹방\n",
            "\n",
            "\n",
            "8\"전 객실 금연이라는데\"...권민아, 실내 흡연+거짓해명 논란\n",
            "\n",
            "\n",
            "9'조현재♥' 박민정, 5kg 찐 8개월 임산부의 외출..배가 남산만하게 나왔네\n",
            "\n",
            "\n",
            "10이수지, 14kg 빼더니 점점 예뻐지네..양갈래 머리까지 깜찍\n",
            "\n",
            "\n",
            "\n"
          ]
        }
      ]
    },
    {
      "cell_type": "code",
      "metadata": {
        "id": "aHKXegNUlH2y"
      },
      "source": [
        ""
      ],
      "execution_count": null,
      "outputs": []
    },
    {
      "cell_type": "code",
      "metadata": {
        "id": "9a2z-Mb8lH5a"
      },
      "source": [
        ""
      ],
      "execution_count": null,
      "outputs": []
    },
    {
      "cell_type": "code",
      "metadata": {
        "id": "poF8pTmWlH73"
      },
      "source": [
        ""
      ],
      "execution_count": null,
      "outputs": []
    }
  ]
}