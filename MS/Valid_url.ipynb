{
  "nbformat": 4,
  "nbformat_minor": 0,
  "metadata": {
    "colab": {
      "name": "Valid_url.ipynb",
      "provenance": [],
      "collapsed_sections": []
    },
    "kernelspec": {
      "name": "python3",
      "display_name": "Python 3"
    },
    "language_info": {
      "name": "python"
    }
  },
  "cells": [
    {
      "cell_type": "markdown",
      "metadata": {
        "id": "Ha1pkgv9BhfJ"
      },
      "source": [
        "#Mulriprocessing\n",
        "멀티프로세싱을 이용한 Request 병렬처리 코드\n"
      ]
    },
    {
      "cell_type": "code",
      "metadata": {
        "id": "gXBVt-6ctFY0"
      },
      "source": [
        "import pandas as pd\n",
        "import requests\n",
        "import urllib3\n",
        "import time\n",
        "from multiprocessing import Pool\n",
        "import multiprocessing as mp\n",
        "\n",
        "urllib3.disable_warnings(urllib3.exceptions.InsecureRequestWarning)\n",
        "\n",
        "def get_urls(csv_file):\n",
        "  urls=[]\n",
        "  csv_test = pd.read_csv(csv_file,encoding = 'CP949')\n",
        "  for url in csv_test[\"urls.website\"]:\n",
        "    url = url.split(',')\n",
        "    url[0] = url[0].replace(\"[\", \"\")\n",
        "    url[0] = url[0].replace(\"]\", \"\")\n",
        "    url = url[0].replace(\"'\", \"\")\n",
        "    urls.append(url)\n",
        "  return urls\n",
        "\n",
        "\n",
        "def valid_url(data):\n",
        "  headers={\n",
        "      \"User-Agent\" : \"Mozilla/5.0 (Windows NT 10.0; Win64; x64) AppleWebKit/537.36 (KHTML, like Gecko) Chrome/93.0.4577.63 Safari/537.36\",\n",
        "      \"Accept\" : \"text/html,application/xhtml+xml,application/xml;q=0.9,image/avif,image/webp,image/apng,*/*;q=0.8,application/signed-exchange;v=b3;q=0.9\",\n",
        "      \"Accept-Encoding\" : \"gzip, deflate, br\",\n",
        "      \"Cache-Control\" : \"max-age=0\",\n",
        "      \"Connection\" : \"keep-alive\",\n",
        "      \"Referer\" : \"https://colab.research.google.com/\",\n",
        "      \"Upgrade-Insecure-Requests\" : \"1\",\n",
        "      \"sec-ch-ua\" : \"\\\"Google Chrome\\\";v=\\\"93\\\", \\\" Not;A Brand\\\";v=\\\"99\\\", \\\"Chromium\\\";v=\\\"93\\\"\",\n",
        "      \"sec-ch-ua-mobile\" : \"?0\",\n",
        "      \"sec-ch-ua-platform\" : \"\\\"Windows\\\"\"\n",
        "      }\n",
        "#  print(data)\n",
        "#  print(type(data))\n",
        "  url = data['urls.website']\n",
        "  url = url.split(',')\n",
        "  url[0] = url[0].replace(\"[\", \"\")\n",
        "  url[0] = url[0].replace(\"]\", \"\")\n",
        "  url = url[0].replace(\"'\", \"\")\n",
        "\n",
        "  \n",
        "#  if int(data['cmc_rank']) %50  == 0:\n",
        "#    print(data['cmc_rank'])\n",
        "\n",
        "  \n",
        "  try:\n",
        "    response = requests.get(url,headers=headers,verify=False, timeout=2)\n",
        "    print(\"success ! idx : %s, status code = %d, url = %s\"%(data['cmc_rank'],response.status_code,url))\n",
        "#    print(\"status code = %d, url = %s\"%(response.status_code,url))\n",
        "    if response.status_code not in [200,403,503]:\n",
        "       print(\"FAIL !!!!  idx : %s, status code = %d, url = %s\"%(data['cmc_rank'],response.status_code,url))\n",
        "       return 0\n",
        "#       dead_link.append(url)\n",
        "    else:\n",
        "      return 1\n",
        "  except Exception as e:\n",
        "#      print(e)\n",
        "      print(\"idx : %s, Excepterror url = %s\"%(data['cmc_rank'],url))\n",
        "      return 0\n",
        "#     dead_link.append(url)\n",
        "\n",
        "if __name__=='__main__':\n",
        "    csv_test = pd.read_csv('/content/drive/MyDrive/3301.csv',encoding = 'CP949')\n",
        "    data = csv_test.to_dict('records')\n",
        "    start_time = time.time()\n",
        "    pool = Pool(processes=8) # 4개의 프로세스를 사용합니다.\n",
        "    result = pool.map(valid_url,data)# get_content 함수를 넣어줍시다.\n",
        "    print(\"1\")\n",
        "    for i in range(len(data)):\n",
        "      data[i]['valid_url'] = result[i]\n",
        "    print(\"2\")\n",
        "    list_df = pd.DataFrame(data)\n",
        "    print(\"3\")\n",
        "    list_df.to_csv('result2.csv',index=False)\n",
        "    print(\"4\")\n",
        "    print(\"--- %s seconds ---\" % (time.time() - start_time))\n",
        "  \n",
        "\n"
      ],
      "execution_count": null,
      "outputs": []
    }
  ]
}