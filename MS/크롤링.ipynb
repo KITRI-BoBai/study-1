{
  "nbformat": 4,
  "nbformat_minor": 0,
  "metadata": {
    "colab": {
      "name": "크롤링.ipynb",
      "provenance": []
    },
    "kernelspec": {
      "name": "python3",
      "display_name": "Python 3"
    },
    "language_info": {
      "name": "python"
    }
  },
  "cells": [
    {
      "cell_type": "markdown",
      "metadata": {
        "id": "PWpEG9FtlZUc"
      },
      "source": [
        "#스크래핑"
      ]
    },
    {
      "cell_type": "markdown",
      "metadata": {
        "id": "SQLMeqdgleOS"
      },
      "source": [
        "# Selenium 및 웹 드라이버 설치"
      ]
    },
    {
      "cell_type": "code",
      "metadata": {
        "id": "Nc91j2isldc-"
      },
      "source": [
        "!pip install Selenium\n",
        "!apt-get update\n",
        "!apt install chromium-chromedriver\n",
        "!cp /usr/lib/chromium-browser/chromedriver /usr/bin\n",
        "\n",
        "import sys\n",
        "sys.path.insert(0,'/usr/lib/chromium-browser/chromedriver')"
      ],
      "execution_count": null,
      "outputs": []
    },
    {
      "cell_type": "markdown",
      "metadata": {
        "id": "V_TweQ7TmDdC"
      },
      "source": [
        "#라이브러리 import\n"
      ]
    },
    {
      "cell_type": "code",
      "metadata": {
        "colab": {
          "base_uri": "https://localhost:8080/"
        },
        "id": "3_jjGFxh2xPs",
        "outputId": "b9f6b56b-450e-4ba9-f6bc-e116cfbcad4d"
      },
      "source": [
        "import time\n",
        "import pandas as pd\n",
        "from selenium import webdriver\n",
        "from selenium.common.exceptions import NoSuchElementException\n",
        "\n",
        "chrome_options = webdriver.ChromeOptions()\n",
        "chrome_options.add_argument('--headless')\n",
        "chrome_options.add_argument('--no-sandbox')\n",
        "chrome_options.add_argument('--disable-dev-shm-usage')\n",
        "\n",
        "wd= webdriver.Chrome('chromedriver', options=chrome_options)\n",
        "wd.implicitly_wait(2)\n",
        "url = 'https://entertain.naver.com/home'\n",
        "\n",
        "wd.get(url)\n",
        "\n",
        "for i in range(1,11):\n",
        "  title_xpath = '//*[@id=\"ranking_news\"]/div/div[2]/ul/li[%d]/a' %i\n",
        "  print(wd.find_element_by_xpath(title_xpath).text)"
      ],
      "execution_count": 17,
      "outputs": [
        {
          "output_type": "stream",
          "name": "stdout",
          "text": [
            "1\n",
            "권민아, 남친과 호텔 객실서 흡연 논란→\"흡연방 잡았다\"더니...담뱃불 사진만 삭제\n",
            "2\n",
            "김구라 “전처 아침에 안 일어나, 현재 아내 6시에도 일어나 배웅” (너는 내운명)[결정적장면]\n",
            "3\n",
            "'가슴성형 고백' 유깻잎, 놀라운 수술 회복력 무엇? 슬슬 돌아오는 입맛에 폭풍 먹방\n",
            "4\n",
            "설현, 으리으리한 자택서 화목한 일상 \"아빠 생일 축하해\"\n",
            "5\n",
            "유깻잎 가슴수술 고백 “새로운 몸으로 다시 태어났다”\n",
            "6\n",
            "'하이클래스' 첫방부터 파격 베드신…조여정, 남편 사망에 子와 제주도로 [종합]\n",
            "7\n",
            "'최민환♥' 율희, 가녀린 팔에서 힘이 번쩍…엄마 아닌 누나 같네\n",
            "8\n",
            "'이용규♥' 유하나, 애둘맘 믿기지 않는 몸매…우아한 수영복 패션\n",
            "9\n",
            "‘비주얼부부’ 이현이 \"♥홍성기, 류이서와 더 오래된 사이\"→얼굴 묻고 S전자 스펙 더블로 (ft.팬클럽有) [어저께TV]\n",
            "10\n",
            "할리우드급 쿨내란‥배수진, 최준호와 무슨 사이? 커플 불발됐는데도 당당한 '투샷'\n"
          ]
        }
      ]
    }
  ]
}